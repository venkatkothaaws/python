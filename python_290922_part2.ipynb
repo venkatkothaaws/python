{
 "cells": [
  {
   "cell_type": "markdown",
   "id": "000fd7a4",
   "metadata": {},
   "source": [
    "# Fromat method\n"
   ]
  },
  {
   "cell_type": "code",
   "execution_count": 5,
   "id": "7362d863",
   "metadata": {},
   "outputs": [],
   "source": [
    "txt1 = \"My name is {fname}, I'm {age}\".format(fname = \"venkat\", age = 36)"
   ]
  },
  {
   "cell_type": "code",
   "execution_count": 6,
   "id": "eb2a5aee",
   "metadata": {},
   "outputs": [
    {
     "name": "stdout",
     "output_type": "stream",
     "text": [
      "My name is venkat, I'm 36\n"
     ]
    }
   ],
   "source": [
    "print(txt1)"
   ]
  },
  {
   "cell_type": "code",
   "execution_count": 7,
   "id": "245bfcb3",
   "metadata": {},
   "outputs": [],
   "source": [
    "txt2 = \"My name is {0}, I'm {1}\".format(\"venkat\",36)"
   ]
  },
  {
   "cell_type": "code",
   "execution_count": 8,
   "id": "cbe40546",
   "metadata": {},
   "outputs": [
    {
     "name": "stdout",
     "output_type": "stream",
     "text": [
      "My name is venkat, I'm 36\n"
     ]
    }
   ],
   "source": [
    "print(txt2)"
   ]
  },
  {
   "cell_type": "code",
   "execution_count": 9,
   "id": "52209951",
   "metadata": {},
   "outputs": [],
   "source": [
    "txt3 = \"My name is {}, I'm {}\".format(\"venkat\",36)"
   ]
  },
  {
   "cell_type": "code",
   "execution_count": 10,
   "id": "512d99c3",
   "metadata": {},
   "outputs": [
    {
     "name": "stdout",
     "output_type": "stream",
     "text": [
      "My name is venkat, I'm 36\n"
     ]
    }
   ],
   "source": [
    "print(txt3)"
   ]
  },
  {
   "cell_type": "code",
   "execution_count": 11,
   "id": "f1bb1e0c",
   "metadata": {},
   "outputs": [],
   "source": [
    "txt4 = \"My name is {}, I'm {}\".format(36,\"venkat\")"
   ]
  },
  {
   "cell_type": "code",
   "execution_count": 12,
   "id": "fcc7e045",
   "metadata": {},
   "outputs": [
    {
     "name": "stdout",
     "output_type": "stream",
     "text": [
      "My name is 36, I'm venkat\n"
     ]
    }
   ],
   "source": [
    "print(txt4)"
   ]
  },
  {
   "cell_type": "code",
   "execution_count": 13,
   "id": "96977027",
   "metadata": {},
   "outputs": [
    {
     "data": {
      "text/plain": [
       "'Hello World'"
      ]
     },
     "execution_count": 13,
     "metadata": {},
     "output_type": "execute_result"
    }
   ],
   "source": [
    "'Hello World'"
   ]
  },
  {
   "cell_type": "code",
   "execution_count": 14,
   "id": "5b838d4e",
   "metadata": {},
   "outputs": [],
   "source": [
    "x='Hello World'"
   ]
  },
  {
   "cell_type": "code",
   "execution_count": 15,
   "id": "b75888fe",
   "metadata": {},
   "outputs": [
    {
     "data": {
      "text/plain": [
       "'Hello World'"
      ]
     },
     "execution_count": 15,
     "metadata": {},
     "output_type": "execute_result"
    }
   ],
   "source": [
    "x\n"
   ]
  },
  {
   "cell_type": "code",
   "execution_count": 16,
   "id": "1dc5fee8",
   "metadata": {},
   "outputs": [
    {
     "name": "stdout",
     "output_type": "stream",
     "text": [
      "Hello World\n"
     ]
    }
   ],
   "source": [
    "print(x)"
   ]
  },
  {
   "cell_type": "code",
   "execution_count": 18,
   "id": "e1badefc",
   "metadata": {},
   "outputs": [
    {
     "name": "stdout",
     "output_type": "stream",
     "text": [
      "True\n"
     ]
    }
   ],
   "source": [
    "print(10 > 9)\n"
   ]
  },
  {
   "cell_type": "code",
   "execution_count": 19,
   "id": "326fc4d7",
   "metadata": {},
   "outputs": [
    {
     "name": "stdout",
     "output_type": "stream",
     "text": [
      "False\n"
     ]
    }
   ],
   "source": [
    "print(10 == 9)"
   ]
  },
  {
   "cell_type": "code",
   "execution_count": 20,
   "id": "dc6cd91d",
   "metadata": {},
   "outputs": [
    {
     "name": "stdout",
     "output_type": "stream",
     "text": [
      "False\n"
     ]
    }
   ],
   "source": [
    "print(10 < 9)"
   ]
  },
  {
   "cell_type": "code",
   "execution_count": null,
   "id": "b5f049ea",
   "metadata": {},
   "outputs": [],
   "source": []
  }
 ],
 "metadata": {
  "kernelspec": {
   "display_name": "Python 3 (ipykernel)",
   "language": "python",
   "name": "python3"
  },
  "language_info": {
   "codemirror_mode": {
    "name": "ipython",
    "version": 3
   },
   "file_extension": ".py",
   "mimetype": "text/x-python",
   "name": "python",
   "nbconvert_exporter": "python",
   "pygments_lexer": "ipython3",
   "version": "3.9.12"
  }
 },
 "nbformat": 4,
 "nbformat_minor": 5
}
