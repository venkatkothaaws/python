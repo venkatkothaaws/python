{
 "cells": [
  {
   "cell_type": "markdown",
   "id": "1f22b2f0",
   "metadata": {},
   "source": [
    "# Mathematical operations"
   ]
  },
  {
   "cell_type": "markdown",
   "id": "de87caab",
   "metadata": {},
   "source": [
    "# Addition and subtraction"
   ]
  },
  {
   "cell_type": "code",
   "execution_count": 1,
   "id": "73c8e332",
   "metadata": {},
   "outputs": [
    {
     "data": {
      "text/plain": [
       "5"
      ]
     },
     "execution_count": 1,
     "metadata": {},
     "output_type": "execute_result"
    }
   ],
   "source": [
    "2+3"
   ]
  },
  {
   "cell_type": "code",
   "execution_count": 3,
   "id": "54c6d715",
   "metadata": {},
   "outputs": [
    {
     "data": {
      "text/plain": [
       "5.6666"
      ]
     },
     "execution_count": 3,
     "metadata": {},
     "output_type": "execute_result"
    }
   ],
   "source": [
    "2+3.6666"
   ]
  },
  {
   "cell_type": "code",
   "execution_count": 4,
   "id": "3bb73449",
   "metadata": {},
   "outputs": [
    {
     "data": {
      "text/plain": [
       "-92.44556"
      ]
     },
     "execution_count": 4,
     "metadata": {},
     "output_type": "execute_result"
    }
   ],
   "source": [
    "2-5-89-0.44556"
   ]
  },
  {
   "cell_type": "markdown",
   "id": "6d74be3d",
   "metadata": {},
   "source": [
    "# power operation"
   ]
  },
  {
   "cell_type": "code",
   "execution_count": 7,
   "id": "5de9c5a9",
   "metadata": {},
   "outputs": [
    {
     "data": {
      "text/plain": [
       "729"
      ]
     },
     "execution_count": 7,
     "metadata": {},
     "output_type": "execute_result"
    }
   ],
   "source": [
    "3**6"
   ]
  },
  {
   "cell_type": "markdown",
   "id": "17665d44",
   "metadata": {},
   "source": [
    "# division"
   ]
  },
  {
   "cell_type": "code",
   "execution_count": 9,
   "id": "fe7f98e0",
   "metadata": {},
   "outputs": [
    {
     "data": {
      "text/plain": [
       "99.5"
      ]
     },
     "execution_count": 9,
     "metadata": {},
     "output_type": "execute_result"
    }
   ],
   "source": [
    "199/2"
   ]
  },
  {
   "cell_type": "markdown",
   "id": "f5111c33",
   "metadata": {},
   "source": [
    "# Percentage"
   ]
  },
  {
   "cell_type": "code",
   "execution_count": 10,
   "id": "f77aecac",
   "metadata": {},
   "outputs": [
    {
     "data": {
      "text/plain": [
       "2"
      ]
     },
     "execution_count": 10,
     "metadata": {},
     "output_type": "execute_result"
    }
   ],
   "source": [
    "2%3"
   ]
  },
  {
   "cell_type": "markdown",
   "id": "814ea4ff",
   "metadata": {},
   "source": [
    "# Mutplication"
   ]
  },
  {
   "cell_type": "code",
   "execution_count": 11,
   "id": "69455395",
   "metadata": {},
   "outputs": [
    {
     "data": {
      "text/plain": [
       "36"
      ]
     },
     "execution_count": 11,
     "metadata": {},
     "output_type": "execute_result"
    }
   ],
   "source": [
    "2*3*6"
   ]
  },
  {
   "cell_type": "code",
   "execution_count": 12,
   "id": "c92d7b1e",
   "metadata": {},
   "outputs": [
    {
     "data": {
      "text/plain": [
       "120.0"
      ]
     },
     "execution_count": 12,
     "metadata": {},
     "output_type": "execute_result"
    }
   ],
   "source": [
    "(2+3)*8*9/3"
   ]
  },
  {
   "cell_type": "code",
   "execution_count": 14,
   "id": "beccc77b",
   "metadata": {},
   "outputs": [
    {
     "data": {
      "text/plain": [
       "72.0"
      ]
     },
     "execution_count": 14,
     "metadata": {},
     "output_type": "execute_result"
    }
   ],
   "source": [
    "8*(2+3)*9/(2+3)"
   ]
  },
  {
   "cell_type": "code",
   "execution_count": null,
   "id": "3f4f8f6c",
   "metadata": {},
   "outputs": [],
   "source": []
  }
 ],
 "metadata": {
  "kernelspec": {
   "display_name": "Python 3 (ipykernel)",
   "language": "python",
   "name": "python3"
  },
  "language_info": {
   "codemirror_mode": {
    "name": "ipython",
    "version": 3
   },
   "file_extension": ".py",
   "mimetype": "text/x-python",
   "name": "python",
   "nbconvert_exporter": "python",
   "pygments_lexer": "ipython3",
   "version": "3.9.12"
  }
 },
 "nbformat": 4,
 "nbformat_minor": 5
}
